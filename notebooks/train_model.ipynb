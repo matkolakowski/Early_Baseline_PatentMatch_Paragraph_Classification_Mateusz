{
 "cells": [
  {
   "cell_type": "markdown",
   "id": "0cc0448d",
   "metadata": {},
   "source": [
    "If use Colab set a GPU environment and run cells markdown required by Colab"
   ]
  },
  {
   "cell_type": "code",
   "execution_count": null,
   "id": "138ad1d8",
   "metadata": {},
   "outputs": [],
   "source": [
    "# Colab required\n",
    "from google.colab import drive\n",
    "drive.mount('/content/drive')"
   ]
  },
  {
   "cell_type": "code",
   "execution_count": null,
   "id": "298c7f55",
   "metadata": {},
   "outputs": [],
   "source": [
    "# Colab required\n",
    "# change direction to Early_Baseline_PatentMatch_Paragraph_Classification_Mateusz repo folder\n",
    "%cd path_to_repo"
   ]
  },
  {
   "cell_type": "code",
   "execution_count": null,
   "id": "1ec7e545",
   "metadata": {},
   "outputs": [],
   "source": [
    "# Colab required\n",
    "# update libraries after every runtime reset\n",
    "!pip install -r requirements.txt"
   ]
  },
  {
   "cell_type": "code",
   "execution_count": 1,
   "id": "e2f1bf6c",
   "metadata": {},
   "outputs": [],
   "source": [
    "import sys\n",
    "import os\n",
    "# Add src as folder from where to import\n",
    "parent_dir = os.path.abspath(os.path.join(os.path.dirname(os.getcwd()), '.', 'src'))\n",
    "\n",
    "# Add this directory to sys.path\n",
    "sys.path.append(parent_dir)"
   ]
  },
  {
   "cell_type": "code",
   "execution_count": 2,
   "id": "9861f911",
   "metadata": {},
   "outputs": [],
   "source": [
    "import LLMmanager, utils\n",
    "# this code uploads the credentials to MLflow given in the .env file\n",
    "from settings import (\n",
    "    MLFLOW_TRACKING_URI,\n",
    "    MLFLOW_TRACKING_USERNAME,\n",
    "    MLFLOW_TRACKING_PASSWORD,\n",
    ")\n",
    "\n",
    "if MLFLOW_TRACKING_URI is None:\n",
    "    print('importing mlflow credentials failed')"
   ]
  },
  {
   "cell_type": "code",
   "execution_count": 3,
   "id": "f033efbc",
   "metadata": {},
   "outputs": [],
   "source": [
    "\n",
    "config = {\n",
    "        'learning_rate': 2e-5,\n",
    "        'batch_size': 32,\n",
    "        'num_epochs': 4,\n",
    "        'max_length': 512,\n",
    "        'test_size': 0.1,\n",
    "        'random_state': 42,\n",
    "    }"
   ]
  },
  {
   "cell_type": "code",
   "execution_count": 4,
   "id": "d1536a84",
   "metadata": {},
   "outputs": [
    {
     "name": "stderr",
     "output_type": "stream",
     "text": [
      "/home/ola/mateusz/mateusz/lib/python3.8/site-packages/torch/cuda/__init__.py:88: UserWarning: CUDA initialization: The NVIDIA driver on your system is too old (found version 10010). Please update your GPU driver by downloading and installing a new version from the URL: http://www.nvidia.com/Download/index.aspx Alternatively, go to: https://pytorch.org to install a PyTorch version that has been compiled with your version of the CUDA driver. (Triggered internally at ../c10/cuda/CUDAFunctions.cpp:109.)\n",
      "  return torch._C._cuda_getDeviceCount() > 0\n",
      "Some weights of BertForSequenceClassification were not initialized from the model checkpoint at bert-base-uncased and are newly initialized: ['classifier.bias', 'classifier.weight']\n",
      "You should probably TRAIN this model on a down-stream task to be able to use it for predictions and inference.\n"
     ]
    },
    {
     "name": "stdout",
     "output_type": "stream",
     "text": [
      "GPU not found, set GPU for training process\n"
     ]
    }
   ],
   "source": [
    "# initialize Trainer\n",
    "trainer = LLMmanager.TextSimilarityLLMManager(\n",
    "        model_name='bert-base-uncased',\n",
    "    tokenizer_name = 'bert-base-uncased',\n",
    "        config=config,\n",
    "    verbose=True,\n",
    "    MLFlow_reporting=True\n",
    "    )"
   ]
  },
  {
   "cell_type": "code",
   "execution_count": 5,
   "id": "4e9bf8b2",
   "metadata": {},
   "outputs": [
    {
     "name": "stdout",
     "output_type": "stream",
     "text": [
      "Train data len: 2619\n",
      "Validation data len: 292\n"
     ]
    }
   ],
   "source": []
  },
  {
   "cell_type": "code",
   "execution_count": 6,
   "id": "00ce33ee",
   "metadata": {},
   "outputs": [
    {
     "data": {
      "text/plain": [
       "82"
      ]
     },
     "execution_count": 6,
     "metadata": {},
     "output_type": "execute_result"
    }
   ],
   "source": []
  },
  {
   "cell_type": "code",
   "execution_count": null,
   "id": "420f7a11",
   "metadata": {},
   "outputs": [],
   "source": []
  }
 ],
 "metadata": {
  "kernelspec": {
   "display_name": "Python 3 (ipykernel)",
   "language": "python",
   "name": "python3"
  },
  "language_info": {
   "codemirror_mode": {
    "name": "ipython",
    "version": 3
   },
   "file_extension": ".py",
   "mimetype": "text/x-python",
   "name": "python",
   "nbconvert_exporter": "python",
   "pygments_lexer": "ipython3",
   "version": "3.8.10"
  }
 },
 "nbformat": 4,
 "nbformat_minor": 5
}
