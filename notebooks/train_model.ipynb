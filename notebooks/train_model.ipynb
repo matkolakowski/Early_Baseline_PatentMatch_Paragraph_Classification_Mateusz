{
 "cells": [
  {
   "cell_type": "markdown",
   "id": "27146b87",
   "metadata": {},
   "source": [
    "If use Colab set a GPU environment and run cells markdown required by Colab"
   ]
  },
  {
   "cell_type": "code",
   "execution_count": null,
   "id": "f189f663",
   "metadata": {},
   "outputs": [],
   "source": [
    "# Colab required\n",
    "from google.colab import drive\n",
    "drive.mount('/content/drive')"
   ]
  },
  {
   "cell_type": "code",
   "execution_count": null,
   "id": "0bf85ca7",
   "metadata": {},
   "outputs": [],
   "source": [
    "# Colab required\n",
    "# change direction to Early_Baseline_PatentMatch_Paragraph_Classification_Mateusz repo folder\n",
    "%cd path_to_repo"
   ]
  },
  {
   "cell_type": "code",
   "execution_count": null,
   "id": "b2f2fd74",
   "metadata": {},
   "outputs": [],
   "source": [
    "# Colab required\n",
    "# update libraries after every runtime reset\n",
    "!pip install -r requirements.txt"
   ]
  },
  {
   "cell_type": "code",
   "execution_count": 1,
   "id": "b1d9547a",
   "metadata": {},
   "outputs": [],
   "source": [
    "import sys\n",
    "import os\n",
    "# Add src as folder from where to import\n",
    "parent_dir = os.path.abspath(os.path.join(os.path.dirname(os.getcwd()), '.', 'src'))\n",
    "\n",
    "# Add this directory to sys.path\n",
    "sys.path.append(parent_dir)"
   ]
  },
  {
   "cell_type": "code",
   "execution_count": 2,
   "id": "4d46be9e",
   "metadata": {},
   "outputs": [],
   "source": [
    "import LLMmanager, utils\n",
    "# this code uploads the credentials to MLflow given in the .env file\n",
    "from settings import (\n",
    "    MLFLOW_TRACKING_URI,\n",
    "    MLFLOW_TRACKING_USERNAME,\n",
    "    MLFLOW_TRACKING_PASSWORD,\n",
    ")\n",
    "\n",
    "if MLFLOW_TRACKING_URI is None:\n",
    "    print('importing mlflow credentials failed')"
   ]
  },
  {
   "cell_type": "code",
   "execution_count": 3,
   "id": "aaebbdeb",
   "metadata": {},
   "outputs": [],
   "source": [
    "# initialize Trainer\n",
    "config = {\n",
    "        'learning_rate': 2e-5,\n",
    "        'batch_size': 32,\n",
    "        'num_epochs': 4,\n",
    "        'max_length': 512,\n",
    "        'test_size': 0.1,\n",
    "        'random_state': 42,\n",
    "    }"
   ]
  },
  {
   "cell_type": "code",
   "execution_count": 4,
   "id": "575c410a",
   "metadata": {},
   "outputs": [
    {
     "name": "stderr",
     "output_type": "stream",
     "text": [
      "/home/ola/mateusz/mateusz/lib/python3.8/site-packages/torch/cuda/__init__.py:88: UserWarning: CUDA initialization: The NVIDIA driver on your system is too old (found version 10010). Please update your GPU driver by downloading and installing a new version from the URL: http://www.nvidia.com/Download/index.aspx Alternatively, go to: https://pytorch.org to install a PyTorch version that has been compiled with your version of the CUDA driver. (Triggered internally at ../c10/cuda/CUDAFunctions.cpp:109.)\n",
      "  return torch._C._cuda_getDeviceCount() > 0\n",
      "Some weights of BertForSequenceClassification were not initialized from the model checkpoint at bert-base-uncased and are newly initialized: ['classifier.bias', 'classifier.weight']\n",
      "You should probably TRAIN this model on a down-stream task to be able to use it for predictions and inference.\n"
     ]
    },
    {
     "name": "stdout",
     "output_type": "stream",
     "text": [
      "GPU not found, set GPU for training process\n"
     ]
    }
   ],
   "source": [
    "trainer = LLMmanager.TextSimilarityLLMManager(\n",
    "        model_name='bert-base-uncased',\n",
    "    tokenizer_name = 'bert-base-uncased',\n",
    "        config=config,\n",
    "    verbose=True,\n",
    "    MLFlow_reporting=True\n",
    "    )"
   ]
  },
  {
   "cell_type": "code",
   "execution_count": null,
   "id": "20e2b1f2",
   "metadata": {},
   "outputs": [],
   "source": [
    "if trainer.device == 'cpu':\n",
    "    print(f'GPU not found, set GPU for training process')\n",
    "elif trainer.device == 'cuda':\n",
    "    print(f'GPU found!')"
   ]
  },
  {
   "cell_type": "code",
   "execution_count": null,
   "id": "706c2ac6",
   "metadata": {},
   "outputs": [],
   "source": [
    "str(trainer.device)"
   ]
  },
  {
   "cell_type": "code",
   "execution_count": null,
   "id": "ad297aac",
   "metadata": {},
   "outputs": [],
   "source": []
  }
 ],
 "metadata": {
  "kernelspec": {
   "display_name": "Python 3 (ipykernel)",
   "language": "python",
   "name": "python3"
  },
  "language_info": {
   "codemirror_mode": {
    "name": "ipython",
    "version": 3
   },
   "file_extension": ".py",
   "mimetype": "text/x-python",
   "name": "python",
   "nbconvert_exporter": "python",
   "pygments_lexer": "ipython3",
   "version": "3.8.10"
  }
 },
 "nbformat": 4,
 "nbformat_minor": 5
}
