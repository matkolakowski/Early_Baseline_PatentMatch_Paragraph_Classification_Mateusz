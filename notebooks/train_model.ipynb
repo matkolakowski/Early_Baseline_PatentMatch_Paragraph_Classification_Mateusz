{
 "cells": [
  {
   "cell_type": "markdown",
   "id": "197a522f",
   "metadata": {},
   "source": [
    "If use Colab set a GPU environment and run cells markdown required by Colab"
   ]
  },
  {
   "cell_type": "code",
   "execution_count": null,
   "id": "c2c9f6c6",
   "metadata": {},
   "outputs": [],
   "source": [
    "# Colab required\n",
    "from google.colab import drive\n",
    "drive.mount('/content/drive')"
   ]
  },
  {
   "cell_type": "code",
   "execution_count": null,
   "id": "6ca2f1d3",
   "metadata": {},
   "outputs": [],
   "source": [
    "# Colab required\n",
    "# change direction to Early_Baseline_PatentMatch_Paragraph_Classification_Mateusz repo folder\n",
    "%cd path_to_repo"
   ]
  },
  {
   "cell_type": "code",
   "execution_count": null,
   "id": "89d8341d",
   "metadata": {},
   "outputs": [],
   "source": [
    "# Colab required\n",
    "# update libraries after every runtime reset\n",
    "!pip install -r requirements.txt"
   ]
  },
  {
   "cell_type": "code",
   "execution_count": 1,
   "id": "0b01d245",
   "metadata": {},
   "outputs": [
    {
     "name": "stdout",
     "output_type": "stream",
     "text": [
      "/home/ola/mateusz/nils/Early_Baseline_PatentMatch_Paragraph_Classification_Mateusz\n"
     ]
    }
   ],
   "source": [
    "cd ../"
   ]
  },
  {
   "cell_type": "code",
   "execution_count": 2,
   "id": "76a358ec",
   "metadata": {},
   "outputs": [
    {
     "ename": "TypeError",
     "evalue": "'type' object is not subscriptable",
     "output_type": "error",
     "traceback": [
      "\u001b[0;31m---------------------------------------------------------------------------\u001b[0m",
      "\u001b[0;31mTypeError\u001b[0m                                 Traceback (most recent call last)",
      "Input \u001b[0;32mIn [2]\u001b[0m, in \u001b[0;36m<cell line: 1>\u001b[0;34m()\u001b[0m\n\u001b[0;32m----> 1\u001b[0m \u001b[38;5;28;01mfrom\u001b[39;00m \u001b[38;5;21;01msrc\u001b[39;00m \u001b[38;5;28;01mimport\u001b[39;00m LLMmanager, utils\n\u001b[1;32m      2\u001b[0m \u001b[38;5;66;03m# this code uploads the credentials to MLflow given in the .env file\u001b[39;00m\n\u001b[1;32m      3\u001b[0m \u001b[38;5;28;01mfrom\u001b[39;00m \u001b[38;5;21;01msrc\u001b[39;00m\u001b[38;5;21;01m.\u001b[39;00m\u001b[38;5;21;01msettings\u001b[39;00m \u001b[38;5;28;01mimport\u001b[39;00m (\n\u001b[1;32m      4\u001b[0m     MLFLOW_TRACKING_URI,\n\u001b[1;32m      5\u001b[0m     MLFLOW_TRACKING_USERNAME,\n\u001b[1;32m      6\u001b[0m     MLFLOW_TRACKING_PASSWORD,\n\u001b[1;32m      7\u001b[0m )\n",
      "File \u001b[0;32m~/mateusz/nils/Early_Baseline_PatentMatch_Paragraph_Classification_Mateusz/src/LLMmanager.py:72\u001b[0m, in \u001b[0;36m<module>\u001b[0;34m\u001b[0m\n\u001b[1;32m     68\u001b[0m         token_type_ids \u001b[38;5;241m=\u001b[39m inputs[\u001b[38;5;124m'\u001b[39m\u001b[38;5;124mtoken_type_ids\u001b[39m\u001b[38;5;124m'\u001b[39m]\u001b[38;5;241m.\u001b[39msqueeze()\n\u001b[1;32m     69\u001b[0m         \u001b[38;5;28;01mreturn\u001b[39;00m input_ids, attention_mask, token_type_ids, torch\u001b[38;5;241m.\u001b[39mtensor(label, dtype\u001b[38;5;241m=\u001b[39mtorch\u001b[38;5;241m.\u001b[39mlong)\n\u001b[0;32m---> 72\u001b[0m \u001b[38;5;28;01mclass\u001b[39;00m \u001b[38;5;21;01mTextSimilarityLLMManager\u001b[39;00m:\n\u001b[1;32m     73\u001b[0m     \u001b[38;5;124;03m\"\"\"\u001b[39;00m\n\u001b[1;32m     74\u001b[0m \u001b[38;5;124;03m    A manager class for training and evaluating a text similarity model using transformers.\u001b[39;00m\n\u001b[1;32m     75\u001b[0m \n\u001b[0;32m   (...)\u001b[0m\n\u001b[1;32m     81\u001b[0m \u001b[38;5;124;03m        verbose (bool): Whether to print out verbose messages during training and evaluation.\u001b[39;00m\n\u001b[1;32m     82\u001b[0m \u001b[38;5;124;03m    \"\"\"\u001b[39;00m\n\u001b[1;32m     84\u001b[0m     \u001b[38;5;28;01mdef\u001b[39;00m \u001b[38;5;21m__init__\u001b[39m(\u001b[38;5;28mself\u001b[39m, model_name: \u001b[38;5;28mstr\u001b[39m, tokenizer_name: \u001b[38;5;28mstr\u001b[39m, config: Dict[\u001b[38;5;28mstr\u001b[39m, Any], MLFlow_reporting: \u001b[38;5;28mbool\u001b[39m,\n\u001b[1;32m     85\u001b[0m                  verbose: \u001b[38;5;28mbool\u001b[39m):\n",
      "File \u001b[0;32m~/mateusz/nils/Early_Baseline_PatentMatch_Paragraph_Classification_Mateusz/src/LLMmanager.py:106\u001b[0m, in \u001b[0;36mTextSimilarityLLMManager\u001b[0;34m()\u001b[0m\n\u001b[1;32m    102\u001b[0m     \u001b[38;5;28mself\u001b[39m\u001b[38;5;241m.\u001b[39mMLFlow_reporting \u001b[38;5;241m=\u001b[39m MLFlow_reporting\n\u001b[1;32m    103\u001b[0m     \u001b[38;5;28mself\u001b[39m\u001b[38;5;241m.\u001b[39mverbose \u001b[38;5;241m=\u001b[39m verbose\n\u001b[0;32m--> 106\u001b[0m \u001b[38;5;28;01mdef\u001b[39;00m \u001b[38;5;21mload_train_data\u001b[39m(\u001b[38;5;28mself\u001b[39m, train_path) \u001b[38;5;241m-\u001b[39m\u001b[38;5;241m>\u001b[39m \u001b[38;5;28;43mtuple\u001b[39;49m\u001b[43m[\u001b[49m\u001b[43mDataLoader\u001b[49m\u001b[43m,\u001b[49m\u001b[43m \u001b[49m\u001b[43mDataLoader\u001b[49m\u001b[43m]\u001b[49m:\n\u001b[1;32m    107\u001b[0m     \u001b[38;5;124;03m\"\"\"\u001b[39;00m\n\u001b[1;32m    108\u001b[0m \u001b[38;5;124;03m    Loads and preprocesses data, creating DataLoaders for training and validation.\u001b[39;00m\n\u001b[1;32m    109\u001b[0m \n\u001b[1;32m    110\u001b[0m \u001b[38;5;124;03m    Returns:\u001b[39;00m\n\u001b[1;32m    111\u001b[0m \u001b[38;5;124;03m        DataLoader: A DataLoader object.\u001b[39;00m\n\u001b[1;32m    112\u001b[0m \u001b[38;5;124;03m    \"\"\"\u001b[39;00m\n\u001b[1;32m    113\u001b[0m     \u001b[38;5;66;03m# open json\u001b[39;00m\n",
      "\u001b[0;31mTypeError\u001b[0m: 'type' object is not subscriptable"
     ]
    }
   ],
   "source": [
    "from src import LLMmanager, utils\n",
    "# this code uploads the credentials to MLflow given in the .env file\n",
    "from src.settings import (\n",
    "    MLFLOW_TRACKING_URI,\n",
    "    MLFLOW_TRACKING_USERNAME,\n",
    "    MLFLOW_TRACKING_PASSWORD,\n",
    ")\n",
    "\n",
    "if MLFLOW_TRACKING_URI is None:\n",
    "  print('importing mlflow credentials failed')"
   ]
  },
  {
   "cell_type": "code",
   "execution_count": null,
   "id": "421da6fa",
   "metadata": {},
   "outputs": [],
   "source": []
  }
 ],
 "metadata": {
  "kernelspec": {
   "display_name": "Python 3 (ipykernel)",
   "language": "python",
   "name": "python3"
  },
  "language_info": {
   "codemirror_mode": {
    "name": "ipython",
    "version": 3
   },
   "file_extension": ".py",
   "mimetype": "text/x-python",
   "name": "python",
   "nbconvert_exporter": "python",
   "pygments_lexer": "ipython3",
   "version": "3.8.10"
  }
 },
 "nbformat": 4,
 "nbformat_minor": 5
}
